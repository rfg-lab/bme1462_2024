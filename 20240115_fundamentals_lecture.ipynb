{
 "cells": [
  {
   "cell_type": "markdown",
   "metadata": {},
   "source": [
    "# Image processing and analysis in Python: an introduction\n"
   ]
  },
  {
   "cell_type": "markdown",
   "metadata": {},
   "source": [
    "### 1. Overview & learning objectives\n",
    "In this notebook, we will discuss the fundamentals of image representation and manipulation in Python.\n",
    "\n",
    "With this notebook we will:\n",
    "\n",
    "1. Gain an understanding of how to represent images with Python and **numpy**.\n",
    "\n",
    "1. Learn how to open and display an image from disk using **scikit-image** and **matplotlib**. \n",
    "\n",
    "1. Experiment accessing and modifying pixel values.\n",
    "\n",
    "Please, **note** that this notebook is not an exhaustive introduction to Python, numpy, scikit-image, or matplotlib. For tutorials and official documentation, please check at the [end of this notebook](#additional_materials)."
   ]
  },
  {
   "cell_type": "markdown",
   "metadata": {},
   "source": [
    "### 2. Images as Python lists\n",
    "We will consider a two-dimensional image as a matrix in which each element contains the corresponding pixel value. In Python, **matrices can be represented as lists of lists**:"
   ]
  },
  {
   "cell_type": "code",
   "execution_count": null,
   "metadata": {},
   "outputs": [],
   "source": [
    "alist = [[1, 2, 3], [4, 5, 6], [7, 8, 9], [10, 11, 12]]  # square brackets define lists in Python.\n",
    "\n",
    "print(alist)  # the print command can be useful to visualize the contents of Python variables."
   ]
  },
  {
   "cell_type": "markdown",
   "metadata": {},
   "source": [
    "represents a matrix with four rows and three columns."
   ]
  },
  {
   "cell_type": "markdown",
   "metadata": {},
   "source": [
    "### 3. Images in numpy: the ndarray\n",
    "Python is not really good at working with matrices. Fortunately, the **numpy** package provides highly optimized methods to work with multidimensional arrays. At the core of numpy is the **ndarray** data structure, used to store and manipulate arrays. You can use the Python help system to learn more about ndarrays:"
   ]
  },
  {
   "cell_type": "code",
   "execution_count": null,
   "metadata": {},
   "outputs": [],
   "source": [
    "import numpy  # loads the numpy package.\n",
    "\n",
    "# a question mark invokes the Python help system.\n",
    "numpy.ndarray?"
   ]
  },
  {
   "cell_type": "markdown",
   "metadata": {},
   "source": [
    "It is easy to create an ndarray from a list using the numpy method **asarray**.\n",
    "\n",
    "Use the help system to figure out how to create an ndarray from **alist**:"
   ]
  },
  {
   "cell_type": "code",
   "execution_count": null,
   "metadata": {},
   "outputs": [],
   "source": []
  },
  {
   "cell_type": "markdown",
   "metadata": {},
   "source": [
    "ndarrays have two important properties, **shape** and **dtype**. \n",
    "\n",
    "In your own words, explain what each one of these two properties mean and report the values for the ndarray that you just created above. Remember that you can always use the help system."
   ]
  },
  {
   "cell_type": "markdown",
   "metadata": {},
   "source": [
    "**shape**: \n",
    "\n",
    "**dtype**: "
   ]
  },
  {
   "cell_type": "code",
   "execution_count": null,
   "metadata": {
    "scrolled": true
   },
   "outputs": [],
   "source": []
  },
  {
   "cell_type": "markdown",
   "metadata": {},
   "source": [
    "### 4. Opening and displaying images\n",
    "The **scikit-image** package uses ndarrays to represent images. scikit-image builds efficient routines for image processing and analysis around ndarrays. \n",
    "\n",
    "Most often we will not be \"creating\" images, but opening them from a file. In scikit-image, the **io** module provides the method **imread**, which can be used to open images. \n",
    "\n",
    "Import the io module with the following command (**skimage** is short for scikit-image), and use the imread method to read the image **cells.tif**. Make sure that the image is in the same folder as the notebook (this is the case if you are running the notebook in  **binder**)."
   ]
  },
  {
   "cell_type": "code",
   "execution_count": null,
   "metadata": {},
   "outputs": [],
   "source": [
    "from skimage import io"
   ]
  },
  {
   "cell_type": "code",
   "execution_count": null,
   "metadata": {},
   "outputs": [],
   "source": []
  },
  {
   "cell_type": "markdown",
   "metadata": {},
   "source": [
    "The **matplotlib** package provides functionality to display images and plot data. If you have worked with Matlab, the matplotlib method names will result familiar. "
   ]
  },
  {
   "cell_type": "code",
   "execution_count": null,
   "metadata": {},
   "outputs": [],
   "source": [
    "import matplotlib.pyplot as plt\n",
    "#print(plt.style.available)  # prints all the matplotlib styles that can be used.\n",
    "plt.style.use(['classic', 'grayscale', 'bmh'])\n",
    "plt.grid(False)\n",
    "\n",
    "plt.imshow(animage, cmap='Greys_r')  # set color map to greyscale with dim low pixel values and bright higher ones.\n",
    "plt.show()"
   ]
  },
  {
   "cell_type": "markdown",
   "metadata": {},
   "source": [
    "### 5. Accessing pixels"
   ]
  },
  {
   "cell_type": "markdown",
   "metadata": {},
   "source": [
    "Because images are numpy ndarrays, we can use them as we would use an ndarray. For example, we can access the value of the pixel at coordinates (x, y) = (25, 33) by using:"
   ]
  },
  {
   "cell_type": "code",
   "execution_count": null,
   "metadata": {},
   "outputs": [],
   "source": [
    "print(animage[33, 25])  # 2D ndarrays are accessed using [row, col] pairs. "
   ]
  },
  {
   "cell_type": "markdown",
   "metadata": {},
   "source": [
    "Or we can create a new image using just every other row and column from the top-left corner of the image:"
   ]
  },
  {
   "cell_type": "code",
   "execution_count": null,
   "metadata": {},
   "outputs": [],
   "source": [
    "topleft_subsampled = animage[0:60:2, 0:60:2].copy()  # select rows and columns from 0 to 60, with a step of 2 (every other).\n",
    "\n",
    "plt.imshow(topleft_subsampled, cmap='Greys_r')\n",
    "plt.show()\n"
   ]
  },
  {
   "cell_type": "markdown",
   "metadata": {},
   "source": [
    "Based, on what we have learned so far, answer the following questions. Remember that the help system is your friend!\n",
    "\n",
    "1. What are the dimensions of the new image that we created?\n",
    "\n",
    "2. How would you create a copy of a 50x50 subimage on the top right corner of the image? And if you wanted to take one in every three rows, and every single column?\n",
    "\n",
    "3. Is the call to copy() necessary? Why are we using it?"
   ]
  },
  {
   "cell_type": "code",
   "execution_count": null,
   "metadata": {},
   "outputs": [],
   "source": []
  },
  {
   "cell_type": "code",
   "execution_count": null,
   "metadata": {},
   "outputs": [],
   "source": [
    "\n"
   ]
  },
  {
   "cell_type": "code",
   "execution_count": null,
   "metadata": {},
   "outputs": [],
   "source": [
    "\n"
   ]
  },
  {
   "cell_type": "code",
   "execution_count": null,
   "metadata": {},
   "outputs": [],
   "source": [
    "\n"
   ]
  },
  {
   "cell_type": "markdown",
   "metadata": {},
   "source": [
    "<a id='additional_materials'></a>\n",
    "### 6. Additional materials\n",
    "\n",
    "#### 6.1 Tutorials\n",
    "* Python: https://scipy-lectures.org/intro/language/python_language.html\n",
    "* numpy: https://scipy-lectures.org/intro/numpy/index.html\n",
    "* scikit-image: https://scipy-lectures.org/packages/scikit-image/index.html\n",
    "* matplotlib: https://scipy-lectures.org/intro/matplotlib/index.html\n",
    "\n",
    "#### 6.2 Documentation\n",
    "* Python: https://docs.python.org/3/\n",
    "* numpy: https://numpy.org/doc/\n",
    "* scikit-image: https://scikit-image.org/docs/dev/\n",
    "* matplotlib: https://matplotlib.org/3.1.1/contents.html"
   ]
  }
 ],
 "metadata": {
  "kernelspec": {
   "display_name": "conda39pyjamas",
   "language": "python",
   "name": "python3"
  },
  "language_info": {
   "codemirror_mode": {
    "name": "ipython",
    "version": 3
   },
   "file_extension": ".py",
   "mimetype": "text/x-python",
   "name": "python",
   "nbconvert_exporter": "python",
   "pygments_lexer": "ipython3",
   "version": "3.9.5 (default, May 18 2021, 12:31:01) \n[Clang 10.0.0 ]"
  },
  "vscode": {
   "interpreter": {
    "hash": "de02d558a8f107ea6ba37b3f7e953fa52b5d228af0a001081c3b7ead807899c1"
   }
  }
 },
 "nbformat": 4,
 "nbformat_minor": 2
}
